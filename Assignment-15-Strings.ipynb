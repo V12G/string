{
 "cells": [
  {
   "cell_type": "code",
   "execution_count": 1,
   "id": "7d35a662",
   "metadata": {},
   "outputs": [
    {
     "data": {
      "text/plain": [
       "str"
      ]
     },
     "execution_count": 1,
     "metadata": {},
     "output_type": "execute_result"
    }
   ],
   "source": [
    "# Write a python script to create a String in 3 different possible ways.\n",
    "a=\"Vaibhav\"\n",
    "type(a)"
   ]
  },
  {
   "cell_type": "code",
   "execution_count": 2,
   "id": "91f8d75d",
   "metadata": {},
   "outputs": [
    {
     "data": {
      "text/plain": [
       "str"
      ]
     },
     "execution_count": 2,
     "metadata": {},
     "output_type": "execute_result"
    }
   ],
   "source": [
    "a='Vaibhav'\n",
    "type(a)"
   ]
  },
  {
   "cell_type": "code",
   "execution_count": 3,
   "id": "34ad5879",
   "metadata": {},
   "outputs": [
    {
     "name": "stdout",
     "output_type": "stream",
     "text": [
      "Enter a number4\n",
      "<class 'str'>\n"
     ]
    }
   ],
   "source": [
    "a=input(\"Enter a number\")\n",
    "print(type(a))"
   ]
  },
  {
   "cell_type": "code",
   "execution_count": 13,
   "id": "abadb888",
   "metadata": {},
   "outputs": [
    {
     "data": {
      "text/plain": [
       "'iNeuro'"
      ]
     },
     "execution_count": 13,
     "metadata": {},
     "output_type": "execute_result"
    }
   ],
   "source": [
    "'''Write a python script to Get the characters from the start to position 5 (Given String\n",
    "“iNeuron” using the slice syntax)'''\n",
    "a=\"iNeuron\"\n",
    "a[0:6:1]"
   ]
  },
  {
   "cell_type": "code",
   "execution_count": 16,
   "id": "25fa5d4c",
   "metadata": {},
   "outputs": [
    {
     "data": {
      "text/plain": [
       "'llo '"
      ]
     },
     "execution_count": 16,
     "metadata": {},
     "output_type": "execute_result"
    }
   ],
   "source": [
    "'''Write a python script to Get the characters from position 2 to position 5 (Given String\n",
    "“Hello Learners” using the slice syntax)'''\n",
    "a=\"Hello Learners\"\n",
    "a[2:6:1]"
   ]
  },
  {
   "cell_type": "code",
   "execution_count": 17,
   "id": "49ae5340",
   "metadata": {},
   "outputs": [
    {
     "name": "stdout",
     "output_type": "stream",
     "text": [
      "LearningPython\n"
     ]
    }
   ],
   "source": [
    "'''Write a python script to demonstrate String Concatenation adding space in between (\n",
    "Given Strings a=”Learning” b=”Python” )'''\n",
    "a=\"Learning\"\n",
    "b=\"Python\"\n",
    "c=a+b\n",
    "print(c)"
   ]
  },
  {
   "cell_type": "code",
   "execution_count": 18,
   "id": "1c0deabe",
   "metadata": {},
   "outputs": [
    {
     "data": {
      "text/plain": [
       "7"
      ]
     },
     "execution_count": 18,
     "metadata": {},
     "output_type": "execute_result"
    }
   ],
   "source": [
    "'''Write a python script to get the count of total number of characters in String a=\n",
    "“iNeuron”.'''\n",
    "a=\"iNeuron\"\n",
    "len(a)"
   ]
  },
  {
   "cell_type": "code",
   "execution_count": 20,
   "id": "12e25053",
   "metadata": {},
   "outputs": [
    {
     "data": {
      "text/plain": [
       "'norueNi'"
      ]
     },
     "execution_count": 20,
     "metadata": {},
     "output_type": "execute_result"
    }
   ],
   "source": [
    "# Write a python script to reverse a String. (“iNeuron”).\n",
    "a=\"iNeuron\"\n",
    "a[7::-1]"
   ]
  },
  {
   "cell_type": "code",
   "execution_count": 23,
   "id": "4bf01f3b",
   "metadata": {},
   "outputs": [
    {
     "data": {
      "text/plain": [
       "True"
      ]
     },
     "execution_count": 23,
     "metadata": {},
     "output_type": "execute_result"
    }
   ],
   "source": [
    "# Write a python script to determine whether a string contains a specific substring.\n",
    "a=\"iNeuron\"\n",
    "\"i\" in a"
   ]
  },
  {
   "cell_type": "code",
   "execution_count": 32,
   "id": "080bd3bf",
   "metadata": {},
   "outputs": [
    {
     "name": "stdout",
     "output_type": "stream",
     "text": [
      "Enter a string123\n",
      "<class 'str'>\n"
     ]
    }
   ],
   "source": [
    "# Write a python script to check if a string contains only numbers.\n",
    "a=input(\"Enter a string\")\n",
    "print(type(a))"
   ]
  },
  {
   "cell_type": "code",
   "execution_count": 33,
   "id": "d69d8feb",
   "metadata": {},
   "outputs": [
    {
     "name": "stdout",
     "output_type": "stream",
     "text": [
      "Enter a stringVaibhav\n",
      "Vaibhav  is alphabet\n"
     ]
    }
   ],
   "source": [
    "#Write a python script to check if a string contains only characters of the alphabet..\n",
    "a=input(\"Enter a string\")\n",
    "if a.isalpha():\n",
    "    print(a,\" is alphabet\")\n",
    "elif a.isdigit():\n",
    "    print(a,\"is digit\")\n",
    "elif a.isalnum:\n",
    "    print(a,\"is alphanumeric\")\n",
    "else:\n",
    "    print(a,\"is special character\")"
   ]
  },
  {
   "cell_type": "code",
   "execution_count": 36,
   "id": "f935f051",
   "metadata": {},
   "outputs": [
    {
     "name": "stdout",
     "output_type": "stream",
     "text": [
      "Enter a number:1234\n",
      "<class 'str'>\n"
     ]
    }
   ],
   "source": [
    "# Write a python script to convert an integer to a string.\n",
    "a=int(input(\"Enter a number:\"))\n",
    "b=str(a)\n",
    "print(type(b))"
   ]
  },
  {
   "cell_type": "code",
   "execution_count": null,
   "id": "c74b6f45",
   "metadata": {},
   "outputs": [],
   "source": []
  }
 ],
 "metadata": {
  "kernelspec": {
   "display_name": "Python 3 (ipykernel)",
   "language": "python",
   "name": "python3"
  },
  "language_info": {
   "codemirror_mode": {
    "name": "ipython",
    "version": 3
   },
   "file_extension": ".py",
   "mimetype": "text/x-python",
   "name": "python",
   "nbconvert_exporter": "python",
   "pygments_lexer": "ipython3",
   "version": "3.9.7"
  }
 },
 "nbformat": 4,
 "nbformat_minor": 5
}
